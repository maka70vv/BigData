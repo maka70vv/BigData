{
 "cells": [
  {
   "metadata": {},
   "cell_type": "markdown",
   "source": "<h1>Numpy</h1>",
   "id": "7383f497a37ff7b1"
  },
  {
   "cell_type": "code",
   "id": "initial_id",
   "metadata": {
    "collapsed": true,
    "ExecuteTime": {
     "end_time": "2024-09-26T10:34:29.087522Z",
     "start_time": "2024-09-26T10:34:29.084564Z"
    }
   },
   "source": [
    "import numpy as np\n",
    "my_array = np.arange(5, 101, 5)\n",
    "my_array"
   ],
   "outputs": [
    {
     "data": {
      "text/plain": [
       "array([  5,  10,  15,  20,  25,  30,  35,  40,  45,  50,  55,  60,  65,\n",
       "        70,  75,  80,  85,  90,  95, 100])"
      ]
     },
     "execution_count": 44,
     "metadata": {},
     "output_type": "execute_result"
    }
   ],
   "execution_count": 44
  },
  {
   "metadata": {
    "ExecuteTime": {
     "end_time": "2024-09-26T10:34:29.138680Z",
     "start_time": "2024-09-26T10:34:29.135877Z"
    }
   },
   "cell_type": "code",
   "source": [
    "my_array_multiples_of_10 = my_array[my_array % 10 == 0]\n",
    "my_array_multiples_of_10"
   ],
   "id": "cd73077f2aa4b8d",
   "outputs": [
    {
     "data": {
      "text/plain": [
       "array([ 10,  20,  30,  40,  50,  60,  70,  80,  90, 100])"
      ]
     },
     "execution_count": 45,
     "metadata": {},
     "output_type": "execute_result"
    }
   ],
   "execution_count": 45
  },
  {
   "metadata": {
    "ExecuteTime": {
     "end_time": "2024-09-26T10:34:29.193042Z",
     "start_time": "2024-09-26T10:34:29.189816Z"
    }
   },
   "cell_type": "code",
   "source": [
    "my_array_2d = my_array.reshape(-1, 2)\n",
    "my_array_2d"
   ],
   "id": "8569cab0acbb52dc",
   "outputs": [
    {
     "data": {
      "text/plain": [
       "array([[  5,  10],\n",
       "       [ 15,  20],\n",
       "       [ 25,  30],\n",
       "       [ 35,  40],\n",
       "       [ 45,  50],\n",
       "       [ 55,  60],\n",
       "       [ 65,  70],\n",
       "       [ 75,  80],\n",
       "       [ 85,  90],\n",
       "       [ 95, 100]])"
      ]
     },
     "execution_count": 46,
     "metadata": {},
     "output_type": "execute_result"
    }
   ],
   "execution_count": 46
  },
  {
   "metadata": {
    "ExecuteTime": {
     "end_time": "2024-09-26T10:34:29.286809Z",
     "start_time": "2024-09-26T10:34:29.283767Z"
    }
   },
   "cell_type": "code",
   "source": [
    "my_second_array = (my_array_multiples_of_10 - 5).reshape(-1, 2) \n",
    "my_second_array"
   ],
   "id": "5a66e93591e41df7",
   "outputs": [
    {
     "data": {
      "text/plain": [
       "array([[ 5, 15],\n",
       "       [25, 35],\n",
       "       [45, 55],\n",
       "       [65, 75],\n",
       "       [85, 95]])"
      ]
     },
     "execution_count": 47,
     "metadata": {},
     "output_type": "execute_result"
    }
   ],
   "execution_count": 47
  },
  {
   "metadata": {
    "ExecuteTime": {
     "end_time": "2024-09-26T10:34:29.349682Z",
     "start_time": "2024-09-26T10:34:29.346682Z"
    }
   },
   "cell_type": "code",
   "source": [
    "result_array = np.hstack((my_array_2d.T, my_second_array.T))\n",
    "result_array"
   ],
   "id": "5a4ed55c8ff7d025",
   "outputs": [
    {
     "data": {
      "text/plain": [
       "array([[  5,  15,  25,  35,  45,  55,  65,  75,  85,  95,   5,  25,  45,\n",
       "         65,  85],\n",
       "       [ 10,  20,  30,  40,  50,  60,  70,  80,  90, 100,  15,  35,  55,\n",
       "         75,  95]])"
      ]
     },
     "execution_count": 48,
     "metadata": {},
     "output_type": "execute_result"
    }
   ],
   "execution_count": 48
  },
  {
   "metadata": {
    "ExecuteTime": {
     "end_time": "2024-09-26T10:34:29.443574Z",
     "start_time": "2024-09-26T10:34:29.440480Z"
    }
   },
   "cell_type": "code",
   "source": [
    "original_array = result_array.T.copy()\n",
    "selected_rows = original_array[1:3, :]\n",
    "divisor = my_array_2d[0, :]\n",
    "result = selected_rows / divisor\n",
    "original_array[1:3, :] = result\n",
    "original_array"
   ],
   "id": "5f1a72a2d8a1c05d",
   "outputs": [
    {
     "data": {
      "text/plain": [
       "array([[  5,  10],\n",
       "       [  3,   2],\n",
       "       [  5,   3],\n",
       "       [ 35,  40],\n",
       "       [ 45,  50],\n",
       "       [ 55,  60],\n",
       "       [ 65,  70],\n",
       "       [ 75,  80],\n",
       "       [ 85,  90],\n",
       "       [ 95, 100],\n",
       "       [  5,  15],\n",
       "       [ 25,  35],\n",
       "       [ 45,  55],\n",
       "       [ 65,  75],\n",
       "       [ 85,  95]])"
      ]
     },
     "execution_count": 49,
     "metadata": {},
     "output_type": "execute_result"
    }
   ],
   "execution_count": 49
  },
  {
   "metadata": {
    "ExecuteTime": {
     "end_time": "2024-09-26T10:34:29.569706Z",
     "start_time": "2024-09-26T10:34:29.566748Z"
    }
   },
   "cell_type": "code",
   "source": [
    "unchanged_mask = (original_array == result_array.T)\n",
    "unchanged_elements = original_array[unchanged_mask]\n",
    "# unchanged_elements = np.unique(unchanged_elements)\n",
    "\n",
    "unchanged_elements"
   ],
   "id": "7fdfa56abb990bdc",
   "outputs": [
    {
     "data": {
      "text/plain": [
       "array([  5,  10,  35,  40,  45,  50,  55,  60,  65,  70,  75,  80,  85,\n",
       "        90,  95, 100,   5,  15,  25,  35,  45,  55,  65,  75,  85,  95])"
      ]
     },
     "execution_count": 50,
     "metadata": {},
     "output_type": "execute_result"
    }
   ],
   "execution_count": 50
  },
  {
   "metadata": {
    "ExecuteTime": {
     "end_time": "2024-09-26T10:34:29.612404Z",
     "start_time": "2024-09-26T10:34:29.608279Z"
    }
   },
   "cell_type": "code",
   "source": [
    "two_d_array = []\n",
    "if unchanged_elements.size > 0:\n",
    "    if unchanged_elements.size % 5 == 0:\n",
    "        two_d_array = unchanged_elements.reshape(-1, 5)\n",
    "        if two_d_array.shape[0] >= 3:\n",
    "            two_d_array[[0, 2]] = two_d_array[[2, 0]]\n",
    "        else:\n",
    "            two_d_array = unchanged_elements.reshape(-1, 5)\n",
    "    else:\n",
    "        print(f\"Не удалось преобразовать в двумерный массив, так как размер {unchanged_elements.size} не кратен 5.\")\n",
    "else:\n",
    "    two_d_array = np.array([])\n",
    "two_d_array"
   ],
   "id": "605244bd6d4b634d",
   "outputs": [
    {
     "name": "stdout",
     "output_type": "stream",
     "text": [
      "Не удалось преобразовать в двумерный массив, так как размер 26 не кратен 5.\n"
     ]
    },
    {
     "data": {
      "text/plain": [
       "[]"
      ]
     },
     "execution_count": 51,
     "metadata": {},
     "output_type": "execute_result"
    }
   ],
   "execution_count": 51
  },
  {
   "metadata": {
    "ExecuteTime": {
     "end_time": "2024-09-26T10:34:29.689924Z",
     "start_time": "2024-09-26T10:34:29.686085Z"
    }
   },
   "cell_type": "code",
   "source": [
    "mean_per_row = np.mean(original_array, axis=1)\n",
    "median_per_row = np.median(original_array, axis=1)\n",
    "std_per_row = np.std(original_array, axis=1)\n",
    "\n",
    "mean_per_row, median_per_row, std_per_row"
   ],
   "id": "37f51841f7c88ccf",
   "outputs": [
    {
     "data": {
      "text/plain": [
       "(array([ 7.5,  2.5,  4. , 37.5, 47.5, 57.5, 67.5, 77.5, 87.5, 97.5, 10. ,\n",
       "        30. , 50. , 70. , 90. ]),\n",
       " array([ 7.5,  2.5,  4. , 37.5, 47.5, 57.5, 67.5, 77.5, 87.5, 97.5, 10. ,\n",
       "        30. , 50. , 70. , 90. ]),\n",
       " array([2.5, 0.5, 1. , 2.5, 2.5, 2.5, 2.5, 2.5, 2.5, 2.5, 5. , 5. , 5. ,\n",
       "        5. , 5. ]))"
      ]
     },
     "execution_count": 52,
     "metadata": {},
     "output_type": "execute_result"
    }
   ],
   "execution_count": 52
  },
  {
   "metadata": {
    "ExecuteTime": {
     "end_time": "2024-09-26T10:34:29.746095Z",
     "start_time": "2024-09-26T10:34:29.742695Z"
    }
   },
   "cell_type": "code",
   "source": [
    "max_per_row = np.max(original_array, axis=1)\n",
    "normalized_array = original_array / max_per_row[:, np.newaxis]\n",
    "\n",
    "normalized_array"
   ],
   "id": "deda7a27b45bc9ab",
   "outputs": [
    {
     "data": {
      "text/plain": [
       "array([[0.5       , 1.        ],\n",
       "       [1.        , 0.66666667],\n",
       "       [1.        , 0.6       ],\n",
       "       [0.875     , 1.        ],\n",
       "       [0.9       , 1.        ],\n",
       "       [0.91666667, 1.        ],\n",
       "       [0.92857143, 1.        ],\n",
       "       [0.9375    , 1.        ],\n",
       "       [0.94444444, 1.        ],\n",
       "       [0.95      , 1.        ],\n",
       "       [0.33333333, 1.        ],\n",
       "       [0.71428571, 1.        ],\n",
       "       [0.81818182, 1.        ],\n",
       "       [0.86666667, 1.        ],\n",
       "       [0.89473684, 1.        ]])"
      ]
     },
     "execution_count": 53,
     "metadata": {},
     "output_type": "execute_result"
    }
   ],
   "execution_count": 53
  },
  {
   "metadata": {},
   "cell_type": "markdown",
   "source": "<h1>Pandas</h1>",
   "id": "2cbcfe9b35e45e70"
  },
  {
   "metadata": {
    "ExecuteTime": {
     "end_time": "2024-09-26T10:34:29.813183Z",
     "start_time": "2024-09-26T10:34:29.808465Z"
    }
   },
   "cell_type": "code",
   "source": [
    "import pandas as pd\n",
    "\n",
    "df = pd.read_csv(\"./data/Global Population Trends(2016-2022).csv\")"
   ],
   "id": "c8917ba9795888f3",
   "outputs": [],
   "execution_count": 54
  },
  {
   "metadata": {
    "ExecuteTime": {
     "end_time": "2024-09-26T10:34:29.863712Z",
     "start_time": "2024-09-26T10:34:29.855087Z"
    }
   },
   "cell_type": "code",
   "source": "df.head()",
   "id": "27d2d88740128ba0",
   "outputs": [
    {
     "data": {
      "text/plain": [
       "       Country  Year Total Population Urban Population Rural Population  \\\n",
       "0  Afghanistan  2017                -                -                -   \n",
       "1  Afghanistan  2018       36,686,784        9,353,296       27,333,488   \n",
       "2  Afghanistan  2019       37,769,499        9,727,157       28,042,342   \n",
       "3  Afghanistan  2020       38,972,230       10,142,913       28,829,317   \n",
       "4  Afghanistan  2021       40,099,462       10,551,772       29,547,690   \n",
       "\n",
       "  Population Density Life Expectancy  Birth Rate  Death Rate Fertility Rate  \\\n",
       "0                 55              63      37.342       7.027          5.129   \n",
       "1                 56              63      36.927       6.981          5.002   \n",
       "2                 58              64      36.466       6.791           4.87   \n",
       "3                 60              63      36.051       7.113           4.75   \n",
       "4                  -              62      35.842       7.344          4.643   \n",
       "\n",
       "  Infant Mortality Rate Growth Rate  \n",
       "0                  49.4           -  \n",
       "1                  47.8           3  \n",
       "2                  46.3           3  \n",
       "3                  44.8           3  \n",
       "4                  43.4           3  "
      ],
      "text/html": [
       "<div>\n",
       "<style scoped>\n",
       "    .dataframe tbody tr th:only-of-type {\n",
       "        vertical-align: middle;\n",
       "    }\n",
       "\n",
       "    .dataframe tbody tr th {\n",
       "        vertical-align: top;\n",
       "    }\n",
       "\n",
       "    .dataframe thead th {\n",
       "        text-align: right;\n",
       "    }\n",
       "</style>\n",
       "<table border=\"1\" class=\"dataframe\">\n",
       "  <thead>\n",
       "    <tr style=\"text-align: right;\">\n",
       "      <th></th>\n",
       "      <th>Country</th>\n",
       "      <th>Year</th>\n",
       "      <th>Total Population</th>\n",
       "      <th>Urban Population</th>\n",
       "      <th>Rural Population</th>\n",
       "      <th>Population Density</th>\n",
       "      <th>Life Expectancy</th>\n",
       "      <th>Birth Rate</th>\n",
       "      <th>Death Rate</th>\n",
       "      <th>Fertility Rate</th>\n",
       "      <th>Infant Mortality Rate</th>\n",
       "      <th>Growth Rate</th>\n",
       "    </tr>\n",
       "  </thead>\n",
       "  <tbody>\n",
       "    <tr>\n",
       "      <th>0</th>\n",
       "      <td>Afghanistan</td>\n",
       "      <td>2017</td>\n",
       "      <td>-</td>\n",
       "      <td>-</td>\n",
       "      <td>-</td>\n",
       "      <td>55</td>\n",
       "      <td>63</td>\n",
       "      <td>37.342</td>\n",
       "      <td>7.027</td>\n",
       "      <td>5.129</td>\n",
       "      <td>49.4</td>\n",
       "      <td>-</td>\n",
       "    </tr>\n",
       "    <tr>\n",
       "      <th>1</th>\n",
       "      <td>Afghanistan</td>\n",
       "      <td>2018</td>\n",
       "      <td>36,686,784</td>\n",
       "      <td>9,353,296</td>\n",
       "      <td>27,333,488</td>\n",
       "      <td>56</td>\n",
       "      <td>63</td>\n",
       "      <td>36.927</td>\n",
       "      <td>6.981</td>\n",
       "      <td>5.002</td>\n",
       "      <td>47.8</td>\n",
       "      <td>3</td>\n",
       "    </tr>\n",
       "    <tr>\n",
       "      <th>2</th>\n",
       "      <td>Afghanistan</td>\n",
       "      <td>2019</td>\n",
       "      <td>37,769,499</td>\n",
       "      <td>9,727,157</td>\n",
       "      <td>28,042,342</td>\n",
       "      <td>58</td>\n",
       "      <td>64</td>\n",
       "      <td>36.466</td>\n",
       "      <td>6.791</td>\n",
       "      <td>4.87</td>\n",
       "      <td>46.3</td>\n",
       "      <td>3</td>\n",
       "    </tr>\n",
       "    <tr>\n",
       "      <th>3</th>\n",
       "      <td>Afghanistan</td>\n",
       "      <td>2020</td>\n",
       "      <td>38,972,230</td>\n",
       "      <td>10,142,913</td>\n",
       "      <td>28,829,317</td>\n",
       "      <td>60</td>\n",
       "      <td>63</td>\n",
       "      <td>36.051</td>\n",
       "      <td>7.113</td>\n",
       "      <td>4.75</td>\n",
       "      <td>44.8</td>\n",
       "      <td>3</td>\n",
       "    </tr>\n",
       "    <tr>\n",
       "      <th>4</th>\n",
       "      <td>Afghanistan</td>\n",
       "      <td>2021</td>\n",
       "      <td>40,099,462</td>\n",
       "      <td>10,551,772</td>\n",
       "      <td>29,547,690</td>\n",
       "      <td>-</td>\n",
       "      <td>62</td>\n",
       "      <td>35.842</td>\n",
       "      <td>7.344</td>\n",
       "      <td>4.643</td>\n",
       "      <td>43.4</td>\n",
       "      <td>3</td>\n",
       "    </tr>\n",
       "  </tbody>\n",
       "</table>\n",
       "</div>"
      ]
     },
     "execution_count": 55,
     "metadata": {},
     "output_type": "execute_result"
    }
   ],
   "execution_count": 55
  },
  {
   "metadata": {
    "ExecuteTime": {
     "end_time": "2024-09-26T10:34:29.936157Z",
     "start_time": "2024-09-26T10:34:29.933540Z"
    }
   },
   "cell_type": "code",
   "source": "df.shape",
   "id": "3728949b58ae746c",
   "outputs": [
    {
     "data": {
      "text/plain": [
       "(1073, 12)"
      ]
     },
     "execution_count": 56,
     "metadata": {},
     "output_type": "execute_result"
    }
   ],
   "execution_count": 56
  },
  {
   "metadata": {
    "ExecuteTime": {
     "end_time": "2024-09-26T10:34:29.952094Z",
     "start_time": "2024-09-26T10:34:29.949204Z"
    }
   },
   "cell_type": "code",
   "source": "df.columns",
   "id": "7a2f7c363c98ddf3",
   "outputs": [
    {
     "data": {
      "text/plain": [
       "Index(['Country', 'Year', 'Total Population', 'Urban Population',\n",
       "       'Rural Population', 'Population Density', 'Life Expectancy',\n",
       "       'Birth Rate', 'Death Rate', 'Fertility Rate', 'Infant Mortality Rate',\n",
       "       'Growth Rate'],\n",
       "      dtype='object')"
      ]
     },
     "execution_count": 57,
     "metadata": {},
     "output_type": "execute_result"
    }
   ],
   "execution_count": 57
  },
  {
   "metadata": {
    "ExecuteTime": {
     "end_time": "2024-09-26T10:34:30.010810Z",
     "start_time": "2024-09-26T10:34:30.004469Z"
    }
   },
   "cell_type": "code",
   "source": "df.info()",
   "id": "f81b586d9ee43cb5",
   "outputs": [
    {
     "name": "stdout",
     "output_type": "stream",
     "text": [
      "<class 'pandas.core.frame.DataFrame'>\n",
      "RangeIndex: 1073 entries, 0 to 1072\n",
      "Data columns (total 12 columns):\n",
      " #   Column                 Non-Null Count  Dtype  \n",
      "---  ------                 --------------  -----  \n",
      " 0   Country                1073 non-null   object \n",
      " 1   Year                   1073 non-null   int64  \n",
      " 2   Total Population       1073 non-null   object \n",
      " 3   Urban Population       1073 non-null   object \n",
      " 4   Rural Population       1073 non-null   object \n",
      " 5   Population Density     1073 non-null   object \n",
      " 6   Life Expectancy        1073 non-null   object \n",
      " 7   Birth Rate             1073 non-null   float64\n",
      " 8   Death Rate             1073 non-null   float64\n",
      " 9   Fertility Rate         1073 non-null   object \n",
      " 10  Infant Mortality Rate  1073 non-null   object \n",
      " 11  Growth Rate            1073 non-null   object \n",
      "dtypes: float64(2), int64(1), object(9)\n",
      "memory usage: 100.7+ KB\n"
     ]
    }
   ],
   "execution_count": 58
  },
  {
   "metadata": {
    "ExecuteTime": {
     "end_time": "2024-09-26T10:34:30.084863Z",
     "start_time": "2024-09-26T10:34:30.073849Z"
    }
   },
   "cell_type": "code",
   "source": [
    "df1 = df[df['Total Population'] != '-'].copy()\n",
    "df1['Total Population'] = df1['Total Population'].str.replace(',', '').astype(float)\n",
    "\n",
    "df1"
   ],
   "id": "2762fa1c984c0835",
   "outputs": [
    {
     "data": {
      "text/plain": [
       "          Country  Year  Total Population Urban Population Rural Population  \\\n",
       "1     Afghanistan  2018        36686784.0        9,353,296       27,333,488   \n",
       "2     Afghanistan  2019        37769499.0        9,727,157       28,042,342   \n",
       "3     Afghanistan  2020        38972230.0       10,142,913       28,829,317   \n",
       "4     Afghanistan  2021        40099462.0       10,551,772       29,547,690   \n",
       "6         Albania  2018         2866376.0        1,728,969        1,137,407   \n",
       "...           ...   ...               ...              ...              ...   \n",
       "1067       Zambia  2021        19473125.0        8,800,295       10,672,830   \n",
       "1069     Zimbabwe  2018        15052184.0        4,848,158       10,204,026   \n",
       "1070     Zimbabwe  2019        15354608.0        4,945,719       10,408,889   \n",
       "1071     Zimbabwe  2020        15669666.0        5,052,214       10,617,452   \n",
       "1072     Zimbabwe  2021        15993524.0        5,166,388       10,827,136   \n",
       "\n",
       "     Population Density Life Expectancy  Birth Rate  Death Rate  \\\n",
       "1                    56              63      36.927       6.981   \n",
       "2                    58              64      36.466       6.791   \n",
       "3                    60              63      36.051       7.113   \n",
       "4                     -              62      35.842       7.344   \n",
       "6                   105              79      10.517       8.308   \n",
       "...                 ...             ...         ...         ...   \n",
       "1067                  -              61      34.511       6.973   \n",
       "1069                 39              61      32.074       7.972   \n",
       "1070                 40              61      31.518       8.043   \n",
       "1071                 41              61      31.009       8.132   \n",
       "1072                  -              59      30.537       9.057   \n",
       "\n",
       "     Fertility Rate Infant Mortality Rate Growth Rate  \n",
       "1             5.002                  47.8           3  \n",
       "2              4.87                  46.3           3  \n",
       "3              4.75                  44.8           3  \n",
       "4             4.643                  43.4           3  \n",
       "6              1.44                   8.3           0  \n",
       "...             ...                   ...         ...  \n",
       "1067          4.308                  40.2           3  \n",
       "1069          3.659                    38           2  \n",
       "1070          3.599                  37.1           2  \n",
       "1071          3.545                  36.6           2  \n",
       "1072          3.491                  35.7           2  \n",
       "\n",
       "[864 rows x 12 columns]"
      ],
      "text/html": [
       "<div>\n",
       "<style scoped>\n",
       "    .dataframe tbody tr th:only-of-type {\n",
       "        vertical-align: middle;\n",
       "    }\n",
       "\n",
       "    .dataframe tbody tr th {\n",
       "        vertical-align: top;\n",
       "    }\n",
       "\n",
       "    .dataframe thead th {\n",
       "        text-align: right;\n",
       "    }\n",
       "</style>\n",
       "<table border=\"1\" class=\"dataframe\">\n",
       "  <thead>\n",
       "    <tr style=\"text-align: right;\">\n",
       "      <th></th>\n",
       "      <th>Country</th>\n",
       "      <th>Year</th>\n",
       "      <th>Total Population</th>\n",
       "      <th>Urban Population</th>\n",
       "      <th>Rural Population</th>\n",
       "      <th>Population Density</th>\n",
       "      <th>Life Expectancy</th>\n",
       "      <th>Birth Rate</th>\n",
       "      <th>Death Rate</th>\n",
       "      <th>Fertility Rate</th>\n",
       "      <th>Infant Mortality Rate</th>\n",
       "      <th>Growth Rate</th>\n",
       "    </tr>\n",
       "  </thead>\n",
       "  <tbody>\n",
       "    <tr>\n",
       "      <th>1</th>\n",
       "      <td>Afghanistan</td>\n",
       "      <td>2018</td>\n",
       "      <td>36686784.0</td>\n",
       "      <td>9,353,296</td>\n",
       "      <td>27,333,488</td>\n",
       "      <td>56</td>\n",
       "      <td>63</td>\n",
       "      <td>36.927</td>\n",
       "      <td>6.981</td>\n",
       "      <td>5.002</td>\n",
       "      <td>47.8</td>\n",
       "      <td>3</td>\n",
       "    </tr>\n",
       "    <tr>\n",
       "      <th>2</th>\n",
       "      <td>Afghanistan</td>\n",
       "      <td>2019</td>\n",
       "      <td>37769499.0</td>\n",
       "      <td>9,727,157</td>\n",
       "      <td>28,042,342</td>\n",
       "      <td>58</td>\n",
       "      <td>64</td>\n",
       "      <td>36.466</td>\n",
       "      <td>6.791</td>\n",
       "      <td>4.87</td>\n",
       "      <td>46.3</td>\n",
       "      <td>3</td>\n",
       "    </tr>\n",
       "    <tr>\n",
       "      <th>3</th>\n",
       "      <td>Afghanistan</td>\n",
       "      <td>2020</td>\n",
       "      <td>38972230.0</td>\n",
       "      <td>10,142,913</td>\n",
       "      <td>28,829,317</td>\n",
       "      <td>60</td>\n",
       "      <td>63</td>\n",
       "      <td>36.051</td>\n",
       "      <td>7.113</td>\n",
       "      <td>4.75</td>\n",
       "      <td>44.8</td>\n",
       "      <td>3</td>\n",
       "    </tr>\n",
       "    <tr>\n",
       "      <th>4</th>\n",
       "      <td>Afghanistan</td>\n",
       "      <td>2021</td>\n",
       "      <td>40099462.0</td>\n",
       "      <td>10,551,772</td>\n",
       "      <td>29,547,690</td>\n",
       "      <td>-</td>\n",
       "      <td>62</td>\n",
       "      <td>35.842</td>\n",
       "      <td>7.344</td>\n",
       "      <td>4.643</td>\n",
       "      <td>43.4</td>\n",
       "      <td>3</td>\n",
       "    </tr>\n",
       "    <tr>\n",
       "      <th>6</th>\n",
       "      <td>Albania</td>\n",
       "      <td>2018</td>\n",
       "      <td>2866376.0</td>\n",
       "      <td>1,728,969</td>\n",
       "      <td>1,137,407</td>\n",
       "      <td>105</td>\n",
       "      <td>79</td>\n",
       "      <td>10.517</td>\n",
       "      <td>8.308</td>\n",
       "      <td>1.44</td>\n",
       "      <td>8.3</td>\n",
       "      <td>0</td>\n",
       "    </tr>\n",
       "    <tr>\n",
       "      <th>...</th>\n",
       "      <td>...</td>\n",
       "      <td>...</td>\n",
       "      <td>...</td>\n",
       "      <td>...</td>\n",
       "      <td>...</td>\n",
       "      <td>...</td>\n",
       "      <td>...</td>\n",
       "      <td>...</td>\n",
       "      <td>...</td>\n",
       "      <td>...</td>\n",
       "      <td>...</td>\n",
       "      <td>...</td>\n",
       "    </tr>\n",
       "    <tr>\n",
       "      <th>1067</th>\n",
       "      <td>Zambia</td>\n",
       "      <td>2021</td>\n",
       "      <td>19473125.0</td>\n",
       "      <td>8,800,295</td>\n",
       "      <td>10,672,830</td>\n",
       "      <td>-</td>\n",
       "      <td>61</td>\n",
       "      <td>34.511</td>\n",
       "      <td>6.973</td>\n",
       "      <td>4.308</td>\n",
       "      <td>40.2</td>\n",
       "      <td>3</td>\n",
       "    </tr>\n",
       "    <tr>\n",
       "      <th>1069</th>\n",
       "      <td>Zimbabwe</td>\n",
       "      <td>2018</td>\n",
       "      <td>15052184.0</td>\n",
       "      <td>4,848,158</td>\n",
       "      <td>10,204,026</td>\n",
       "      <td>39</td>\n",
       "      <td>61</td>\n",
       "      <td>32.074</td>\n",
       "      <td>7.972</td>\n",
       "      <td>3.659</td>\n",
       "      <td>38</td>\n",
       "      <td>2</td>\n",
       "    </tr>\n",
       "    <tr>\n",
       "      <th>1070</th>\n",
       "      <td>Zimbabwe</td>\n",
       "      <td>2019</td>\n",
       "      <td>15354608.0</td>\n",
       "      <td>4,945,719</td>\n",
       "      <td>10,408,889</td>\n",
       "      <td>40</td>\n",
       "      <td>61</td>\n",
       "      <td>31.518</td>\n",
       "      <td>8.043</td>\n",
       "      <td>3.599</td>\n",
       "      <td>37.1</td>\n",
       "      <td>2</td>\n",
       "    </tr>\n",
       "    <tr>\n",
       "      <th>1071</th>\n",
       "      <td>Zimbabwe</td>\n",
       "      <td>2020</td>\n",
       "      <td>15669666.0</td>\n",
       "      <td>5,052,214</td>\n",
       "      <td>10,617,452</td>\n",
       "      <td>41</td>\n",
       "      <td>61</td>\n",
       "      <td>31.009</td>\n",
       "      <td>8.132</td>\n",
       "      <td>3.545</td>\n",
       "      <td>36.6</td>\n",
       "      <td>2</td>\n",
       "    </tr>\n",
       "    <tr>\n",
       "      <th>1072</th>\n",
       "      <td>Zimbabwe</td>\n",
       "      <td>2021</td>\n",
       "      <td>15993524.0</td>\n",
       "      <td>5,166,388</td>\n",
       "      <td>10,827,136</td>\n",
       "      <td>-</td>\n",
       "      <td>59</td>\n",
       "      <td>30.537</td>\n",
       "      <td>9.057</td>\n",
       "      <td>3.491</td>\n",
       "      <td>35.7</td>\n",
       "      <td>2</td>\n",
       "    </tr>\n",
       "  </tbody>\n",
       "</table>\n",
       "<p>864 rows × 12 columns</p>\n",
       "</div>"
      ]
     },
     "execution_count": 59,
     "metadata": {},
     "output_type": "execute_result"
    }
   ],
   "execution_count": 59
  },
  {
   "metadata": {
    "ExecuteTime": {
     "end_time": "2024-09-26T10:34:30.196238Z",
     "start_time": "2024-09-26T10:34:30.185522Z"
    }
   },
   "cell_type": "code",
   "source": "df1.describe()",
   "id": "bb15688963c0cc61",
   "outputs": [
    {
     "data": {
      "text/plain": [
       "              Year  Total Population  Birth Rate  Death Rate\n",
       "count   864.000000      8.640000e+02  864.000000  864.000000\n",
       "mean   2019.500000      3.577942e+07   18.548384    7.889123\n",
       "std       1.118682      1.393935e+08    9.887518    3.041385\n",
       "min    2018.000000      1.086500e+04    0.000000    0.000000\n",
       "25%    2018.750000      7.771928e+05   10.500000    6.116500\n",
       "50%    2019.500000      6.332328e+06   15.628500    7.453500\n",
       "75%    2020.250000      2.499417e+07   25.565000    9.385000\n",
       "max    2021.000000      1.412360e+09   46.127000   21.700000"
      ],
      "text/html": [
       "<div>\n",
       "<style scoped>\n",
       "    .dataframe tbody tr th:only-of-type {\n",
       "        vertical-align: middle;\n",
       "    }\n",
       "\n",
       "    .dataframe tbody tr th {\n",
       "        vertical-align: top;\n",
       "    }\n",
       "\n",
       "    .dataframe thead th {\n",
       "        text-align: right;\n",
       "    }\n",
       "</style>\n",
       "<table border=\"1\" class=\"dataframe\">\n",
       "  <thead>\n",
       "    <tr style=\"text-align: right;\">\n",
       "      <th></th>\n",
       "      <th>Year</th>\n",
       "      <th>Total Population</th>\n",
       "      <th>Birth Rate</th>\n",
       "      <th>Death Rate</th>\n",
       "    </tr>\n",
       "  </thead>\n",
       "  <tbody>\n",
       "    <tr>\n",
       "      <th>count</th>\n",
       "      <td>864.000000</td>\n",
       "      <td>8.640000e+02</td>\n",
       "      <td>864.000000</td>\n",
       "      <td>864.000000</td>\n",
       "    </tr>\n",
       "    <tr>\n",
       "      <th>mean</th>\n",
       "      <td>2019.500000</td>\n",
       "      <td>3.577942e+07</td>\n",
       "      <td>18.548384</td>\n",
       "      <td>7.889123</td>\n",
       "    </tr>\n",
       "    <tr>\n",
       "      <th>std</th>\n",
       "      <td>1.118682</td>\n",
       "      <td>1.393935e+08</td>\n",
       "      <td>9.887518</td>\n",
       "      <td>3.041385</td>\n",
       "    </tr>\n",
       "    <tr>\n",
       "      <th>min</th>\n",
       "      <td>2018.000000</td>\n",
       "      <td>1.086500e+04</td>\n",
       "      <td>0.000000</td>\n",
       "      <td>0.000000</td>\n",
       "    </tr>\n",
       "    <tr>\n",
       "      <th>25%</th>\n",
       "      <td>2018.750000</td>\n",
       "      <td>7.771928e+05</td>\n",
       "      <td>10.500000</td>\n",
       "      <td>6.116500</td>\n",
       "    </tr>\n",
       "    <tr>\n",
       "      <th>50%</th>\n",
       "      <td>2019.500000</td>\n",
       "      <td>6.332328e+06</td>\n",
       "      <td>15.628500</td>\n",
       "      <td>7.453500</td>\n",
       "    </tr>\n",
       "    <tr>\n",
       "      <th>75%</th>\n",
       "      <td>2020.250000</td>\n",
       "      <td>2.499417e+07</td>\n",
       "      <td>25.565000</td>\n",
       "      <td>9.385000</td>\n",
       "    </tr>\n",
       "    <tr>\n",
       "      <th>max</th>\n",
       "      <td>2021.000000</td>\n",
       "      <td>1.412360e+09</td>\n",
       "      <td>46.127000</td>\n",
       "      <td>21.700000</td>\n",
       "    </tr>\n",
       "  </tbody>\n",
       "</table>\n",
       "</div>"
      ]
     },
     "execution_count": 60,
     "metadata": {},
     "output_type": "execute_result"
    }
   ],
   "execution_count": 60
  },
  {
   "metadata": {
    "ExecuteTime": {
     "end_time": "2024-09-26T10:34:30.298475Z",
     "start_time": "2024-09-26T10:34:30.288674Z"
    }
   },
   "cell_type": "code",
   "source": [
    "df_sorted = df1.sort_values(by=['Year', 'Total Population'], ascending=[True, False])\n",
    "df_sorted.head()"
   ],
   "id": "9affcbe06b27662c",
   "outputs": [
    {
     "data": {
      "text/plain": [
       "            Country  Year  Total Population Urban Population Rural Population  \\\n",
       "202           China  2018      1.402760e+09      829,760,595      572,999,405   \n",
       "432           India  2018      1.369003e+09      465,871,825      903,131,481   \n",
       "1019  United States  2018      3.268382e+08      268,844,029       57,994,170   \n",
       "437       Indonesia  2018      2.670668e+08      147,754,731      119,312,112   \n",
       "725        Pakistan  2018      2.197315e+08       80,566,744      139,164,735   \n",
       "\n",
       "     Population Density Life Expectancy  Birth Rate  Death Rate  \\\n",
       "202                 149              78      10.860       7.080   \n",
       "432                 460              71      17.651       6.644   \n",
       "1019                 36              79      11.600       8.678   \n",
       "437                 142              70      17.179       7.496   \n",
       "725                 285              66      28.594       6.843   \n",
       "\n",
       "     Fertility Rate Infant Mortality Rate Growth Rate  \n",
       "202           1.554                   6.4           0  \n",
       "432           2.177                  29.8           1  \n",
       "1019           1.73                   5.6           1  \n",
       "437           2.234                  20.8           1  \n",
       "725           3.685                  57.4           2  "
      ],
      "text/html": [
       "<div>\n",
       "<style scoped>\n",
       "    .dataframe tbody tr th:only-of-type {\n",
       "        vertical-align: middle;\n",
       "    }\n",
       "\n",
       "    .dataframe tbody tr th {\n",
       "        vertical-align: top;\n",
       "    }\n",
       "\n",
       "    .dataframe thead th {\n",
       "        text-align: right;\n",
       "    }\n",
       "</style>\n",
       "<table border=\"1\" class=\"dataframe\">\n",
       "  <thead>\n",
       "    <tr style=\"text-align: right;\">\n",
       "      <th></th>\n",
       "      <th>Country</th>\n",
       "      <th>Year</th>\n",
       "      <th>Total Population</th>\n",
       "      <th>Urban Population</th>\n",
       "      <th>Rural Population</th>\n",
       "      <th>Population Density</th>\n",
       "      <th>Life Expectancy</th>\n",
       "      <th>Birth Rate</th>\n",
       "      <th>Death Rate</th>\n",
       "      <th>Fertility Rate</th>\n",
       "      <th>Infant Mortality Rate</th>\n",
       "      <th>Growth Rate</th>\n",
       "    </tr>\n",
       "  </thead>\n",
       "  <tbody>\n",
       "    <tr>\n",
       "      <th>202</th>\n",
       "      <td>China</td>\n",
       "      <td>2018</td>\n",
       "      <td>1.402760e+09</td>\n",
       "      <td>829,760,595</td>\n",
       "      <td>572,999,405</td>\n",
       "      <td>149</td>\n",
       "      <td>78</td>\n",
       "      <td>10.860</td>\n",
       "      <td>7.080</td>\n",
       "      <td>1.554</td>\n",
       "      <td>6.4</td>\n",
       "      <td>0</td>\n",
       "    </tr>\n",
       "    <tr>\n",
       "      <th>432</th>\n",
       "      <td>India</td>\n",
       "      <td>2018</td>\n",
       "      <td>1.369003e+09</td>\n",
       "      <td>465,871,825</td>\n",
       "      <td>903,131,481</td>\n",
       "      <td>460</td>\n",
       "      <td>71</td>\n",
       "      <td>17.651</td>\n",
       "      <td>6.644</td>\n",
       "      <td>2.177</td>\n",
       "      <td>29.8</td>\n",
       "      <td>1</td>\n",
       "    </tr>\n",
       "    <tr>\n",
       "      <th>1019</th>\n",
       "      <td>United States</td>\n",
       "      <td>2018</td>\n",
       "      <td>3.268382e+08</td>\n",
       "      <td>268,844,029</td>\n",
       "      <td>57,994,170</td>\n",
       "      <td>36</td>\n",
       "      <td>79</td>\n",
       "      <td>11.600</td>\n",
       "      <td>8.678</td>\n",
       "      <td>1.73</td>\n",
       "      <td>5.6</td>\n",
       "      <td>1</td>\n",
       "    </tr>\n",
       "    <tr>\n",
       "      <th>437</th>\n",
       "      <td>Indonesia</td>\n",
       "      <td>2018</td>\n",
       "      <td>2.670668e+08</td>\n",
       "      <td>147,754,731</td>\n",
       "      <td>119,312,112</td>\n",
       "      <td>142</td>\n",
       "      <td>70</td>\n",
       "      <td>17.179</td>\n",
       "      <td>7.496</td>\n",
       "      <td>2.234</td>\n",
       "      <td>20.8</td>\n",
       "      <td>1</td>\n",
       "    </tr>\n",
       "    <tr>\n",
       "      <th>725</th>\n",
       "      <td>Pakistan</td>\n",
       "      <td>2018</td>\n",
       "      <td>2.197315e+08</td>\n",
       "      <td>80,566,744</td>\n",
       "      <td>139,164,735</td>\n",
       "      <td>285</td>\n",
       "      <td>66</td>\n",
       "      <td>28.594</td>\n",
       "      <td>6.843</td>\n",
       "      <td>3.685</td>\n",
       "      <td>57.4</td>\n",
       "      <td>2</td>\n",
       "    </tr>\n",
       "  </tbody>\n",
       "</table>\n",
       "</div>"
      ]
     },
     "execution_count": 61,
     "metadata": {},
     "output_type": "execute_result"
    }
   ],
   "execution_count": 61
  },
  {
   "metadata": {
    "ExecuteTime": {
     "end_time": "2024-09-26T10:34:30.386776Z",
     "start_time": "2024-09-26T10:34:30.383888Z"
    }
   },
   "cell_type": "code",
   "source": [
    "max_population_country = df1.loc[df1['Total Population'].idxmax(), 'Country']\n",
    "max_population_country"
   ],
   "id": "d758b35d2e069cc0",
   "outputs": [
    {
     "data": {
      "text/plain": [
       "'China'"
      ]
     },
     "execution_count": 62,
     "metadata": {},
     "output_type": "execute_result"
    }
   ],
   "execution_count": 62
  },
  {
   "metadata": {
    "ExecuteTime": {
     "end_time": "2024-09-26T10:34:30.530714Z",
     "start_time": "2024-09-26T10:34:30.527623Z"
    }
   },
   "cell_type": "code",
   "source": [
    "min_population_country = df1.loc[df1['Total Population'].idxmin(), 'Country']\n",
    "min_population_country"
   ],
   "id": "6927c5eee4d62bbf",
   "outputs": [
    {
     "data": {
      "text/plain": [
       "'Tuvalu'"
      ]
     },
     "execution_count": 63,
     "metadata": {},
     "output_type": "execute_result"
    }
   ],
   "execution_count": 63
  },
  {
   "metadata": {
    "ExecuteTime": {
     "end_time": "2024-09-26T10:34:30.834557Z",
     "start_time": "2024-09-26T10:34:30.658069Z"
    }
   },
   "cell_type": "code",
   "source": "df1.to_excel(\"./data/Global_Population_Trends_Cleaned.xlsx\", index=False)",
   "id": "a04bab20fe47a3b6",
   "outputs": [],
   "execution_count": 64
  }
 ],
 "metadata": {
  "kernelspec": {
   "display_name": "Python 3",
   "language": "python",
   "name": "python3"
  },
  "language_info": {
   "codemirror_mode": {
    "name": "ipython",
    "version": 2
   },
   "file_extension": ".py",
   "mimetype": "text/x-python",
   "name": "python",
   "nbconvert_exporter": "python",
   "pygments_lexer": "ipython2",
   "version": "2.7.6"
  }
 },
 "nbformat": 4,
 "nbformat_minor": 5
}
