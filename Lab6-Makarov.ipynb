{
 "cells": [
  {
   "metadata": {},
   "cell_type": "markdown",
   "source": "<h1>Лабораторная работа №6</h1>",
   "id": "61cc9b3337e09b61"
  },
  {
   "cell_type": "code",
   "id": "initial_id",
   "metadata": {
    "collapsed": true,
    "ExecuteTime": {
     "end_time": "2024-11-24T10:55:25.744840Z",
     "start_time": "2024-11-24T10:55:25.740973Z"
    }
   },
   "source": [
    "import random\n",
    "\n",
    "import pandas as pd\n",
    "from sklearn.ensemble import RandomForestClassifier\n",
    "from sklearn.metrics import classification_report, accuracy_score\n",
    "from sklearn.model_selection import train_test_split, GridSearchCV"
   ],
   "outputs": [],
   "execution_count": 65
  },
  {
   "metadata": {
    "ExecuteTime": {
     "end_time": "2024-11-24T10:55:25.799807Z",
     "start_time": "2024-11-24T10:55:25.790467Z"
    }
   },
   "cell_type": "code",
   "source": [
    "cities = [\"Bishkek\", \"Almaty\", \"Tashkent\"]\n",
    "vacation_types = [\"Beach\", \"Shopping\", \"Adventure\"]\n",
    "transport_types = [\"Plane\", \"Car\", \"Train\"]\n",
    "vacation_targets = [\"London\", \"Paris\", \"Moscow\"]\n",
    "\n",
    "data = {\n",
    "    \"salary\": [random.randint(30000, 150000) for _ in range(1000)],\n",
    "    \"city\": [random.choice(cities) for _ in range(1000)],\n",
    "    \"age\": [random.randint(30, 65) for _ in range(1000)],\n",
    "    \"vacation_prefer\": [random.choice(vacation_types) for _ in range(1000)],\n",
    "    \"transport_prefer\": [random.choice(transport_types) for _ in range(1000)],\n",
    "    \"target\": [random.choice(vacation_targets) for _ in range(1000)],\n",
    "}\n",
    "\n",
    "df = pd.DataFrame(data)\n",
    "\n",
    "print(df)"
   ],
   "id": "3235038531946d97",
   "outputs": [
    {
     "name": "stdout",
     "output_type": "stream",
     "text": [
      "     salary      city  age vacation_prefer transport_prefer  target\n",
      "0     35431    Almaty   54           Beach            Plane   Paris\n",
      "1    142959    Almaty   40           Beach            Train  London\n",
      "2    133859    Almaty   63       Adventure              Car  Moscow\n",
      "3    110944   Bishkek   56       Adventure              Car  Moscow\n",
      "4     63111   Bishkek   64        Shopping            Plane   Paris\n",
      "..      ...       ...  ...             ...              ...     ...\n",
      "995  128124    Almaty   40           Beach              Car  London\n",
      "996  126686   Bishkek   64        Shopping            Plane   Paris\n",
      "997   92030    Almaty   49           Beach              Car  Moscow\n",
      "998   70024   Bishkek   44        Shopping            Plane  Moscow\n",
      "999  108855  Tashkent   48       Adventure              Car  Moscow\n",
      "\n",
      "[1000 rows x 6 columns]\n"
     ]
    }
   ],
   "execution_count": 66
  },
  {
   "metadata": {
    "ExecuteTime": {
     "end_time": "2024-11-24T10:55:25.853314Z",
     "start_time": "2024-11-24T10:55:25.844140Z"
    }
   },
   "cell_type": "code",
   "source": [
    "df_encoded = pd.get_dummies(df, columns=[\"city\", \"vacation_prefer\", \"transport_prefer\", \"target\"])\n",
    "print(df_encoded)"
   ],
   "id": "967907d255d92153",
   "outputs": [
    {
     "name": "stdout",
     "output_type": "stream",
     "text": [
      "     salary  age  city_Almaty  city_Bishkek  city_Tashkent  \\\n",
      "0     35431   54         True         False          False   \n",
      "1    142959   40         True         False          False   \n",
      "2    133859   63         True         False          False   \n",
      "3    110944   56        False          True          False   \n",
      "4     63111   64        False          True          False   \n",
      "..      ...  ...          ...           ...            ...   \n",
      "995  128124   40         True         False          False   \n",
      "996  126686   64        False          True          False   \n",
      "997   92030   49         True         False          False   \n",
      "998   70024   44        False          True          False   \n",
      "999  108855   48        False         False           True   \n",
      "\n",
      "     vacation_prefer_Adventure  vacation_prefer_Beach  \\\n",
      "0                        False                   True   \n",
      "1                        False                   True   \n",
      "2                         True                  False   \n",
      "3                         True                  False   \n",
      "4                        False                  False   \n",
      "..                         ...                    ...   \n",
      "995                      False                   True   \n",
      "996                      False                  False   \n",
      "997                      False                   True   \n",
      "998                      False                  False   \n",
      "999                       True                  False   \n",
      "\n",
      "     vacation_prefer_Shopping  transport_prefer_Car  transport_prefer_Plane  \\\n",
      "0                       False                 False                    True   \n",
      "1                       False                 False                   False   \n",
      "2                       False                  True                   False   \n",
      "3                       False                  True                   False   \n",
      "4                        True                 False                    True   \n",
      "..                        ...                   ...                     ...   \n",
      "995                     False                  True                   False   \n",
      "996                      True                 False                    True   \n",
      "997                     False                  True                   False   \n",
      "998                      True                 False                    True   \n",
      "999                     False                  True                   False   \n",
      "\n",
      "     transport_prefer_Train  target_London  target_Moscow  target_Paris  \n",
      "0                     False          False          False          True  \n",
      "1                      True           True          False         False  \n",
      "2                     False          False           True         False  \n",
      "3                     False          False           True         False  \n",
      "4                     False          False          False          True  \n",
      "..                      ...            ...            ...           ...  \n",
      "995                   False           True          False         False  \n",
      "996                   False          False          False          True  \n",
      "997                   False          False           True         False  \n",
      "998                   False          False           True         False  \n",
      "999                   False          False           True         False  \n",
      "\n",
      "[1000 rows x 14 columns]\n"
     ]
    }
   ],
   "execution_count": 67
  },
  {
   "metadata": {
    "ExecuteTime": {
     "end_time": "2024-11-24T10:55:25.925606Z",
     "start_time": "2024-11-24T10:55:25.906031Z"
    }
   },
   "cell_type": "code",
   "source": [
    "X = df_encoded.drop(columns=[col for col in df_encoded.columns if col.startswith(\"target_\")])\n",
    "y = df_encoded[[col for col in df_encoded.columns if col.startswith(\"target_\")]]\n",
    "\n",
    "X_train, X_test, y_train, y_test = train_test_split(X, y, test_size=0.2, random_state=42)"
   ],
   "id": "ab23da362494c355",
   "outputs": [],
   "execution_count": 68
  },
  {
   "metadata": {
    "ExecuteTime": {
     "end_time": "2024-11-24T10:55:26.137314Z",
     "start_time": "2024-11-24T10:55:25.969140Z"
    }
   },
   "cell_type": "code",
   "source": [
    "clf = RandomForestClassifier(random_state=42)\n",
    "clf.fit(X_train, y_train)\n",
    "\n",
    "y_pred = clf.predict(X_test)\n",
    "print(\"Точность:\", accuracy_score(y_test, y_pred))\n",
    "print(classification_report(y_test, y_pred, zero_division=0))"
   ],
   "id": "ca4f984a2f9ec685",
   "outputs": [
    {
     "name": "stdout",
     "output_type": "stream",
     "text": [
      "Точность: 0.23\n",
      "              precision    recall  f1-score   support\n",
      "\n",
      "           0       0.37      0.21      0.27        71\n",
      "           1       0.34      0.18      0.23        68\n",
      "           2       0.35      0.31      0.33        61\n",
      "\n",
      "   micro avg       0.35      0.23      0.28       200\n",
      "   macro avg       0.35      0.23      0.28       200\n",
      "weighted avg       0.35      0.23      0.28       200\n",
      " samples avg       0.23      0.23      0.23       200\n",
      "\n"
     ]
    }
   ],
   "execution_count": 69
  },
  {
   "metadata": {
    "ExecuteTime": {
     "end_time": "2024-11-24T10:55:53.473356Z",
     "start_time": "2024-11-24T10:55:26.158821Z"
    }
   },
   "cell_type": "code",
   "source": [
    "param_grid = {\n",
    "    \"n_estimators\": [50, 100, 200],\n",
    "    \"max_depth\": [None, 10, 20, 30],\n",
    "    \"min_samples_split\": [2, 5, 10],\n",
    "}\n",
    "\n",
    "grid_search = GridSearchCV(RandomForestClassifier(random_state=42), param_grid, cv=5, scoring=\"accuracy\")\n",
    "grid_search.fit(X_train, y_train)\n",
    "\n",
    "best_model = grid_search.best_estimator_\n",
    "print(\"Лучшие параметры:\", grid_search.best_params_)\n",
    "\n",
    "y_pred_best = best_model.predict(X_test)\n",
    "print(\"Точность после оптимизации:\", accuracy_score(y_test, y_pred_best))\n",
    "print(classification_report(y_test, y_pred_best, zero_division=0))"
   ],
   "id": "ffec51155f9ea91b",
   "outputs": [
    {
     "name": "stdout",
     "output_type": "stream",
     "text": [
      "Лучшие параметры: {'max_depth': 20, 'min_samples_split': 2, 'n_estimators': 100}\n",
      "Точность после оптимизации: 0.23\n",
      "              precision    recall  f1-score   support\n",
      "\n",
      "           0       0.37      0.21      0.27        71\n",
      "           1       0.34      0.18      0.23        68\n",
      "           2       0.35      0.31      0.33        61\n",
      "\n",
      "   micro avg       0.35      0.23      0.28       200\n",
      "   macro avg       0.35      0.23      0.28       200\n",
      "weighted avg       0.35      0.23      0.27       200\n",
      " samples avg       0.23      0.23      0.23       200\n",
      "\n"
     ]
    }
   ],
   "execution_count": 70
  },
  {
   "metadata": {
    "ExecuteTime": {
     "end_time": "2024-11-24T10:55:53.504172Z",
     "start_time": "2024-11-24T10:55:53.494804Z"
    }
   },
   "cell_type": "code",
   "source": [
    "random_sample = pd.DataFrame(columns=X_train.columns)\n",
    "\n",
    "random_sample.loc[0] = {\n",
    "    \"salary\": random.randint(30000, 150000),\n",
    "    \"city_Bishkek\": 1,\n",
    "    \"city_Almaty\": 0,\n",
    "    \"city_Tashkent\": 0,\n",
    "    \"age\": random.randint(30, 65),\n",
    "    \"vacation_prefer_Beach\": 1,\n",
    "    \"vacation_prefer_Shopping\": 0,\n",
    "    \"vacation_prefer_Adventure\": 0,\n",
    "    \"transport_prefer_Plane\": 1,\n",
    "    \"transport_prefer_Car\": 0,\n",
    "    \"transport_prefer_Train\": 0,\n",
    "}\n",
    "\n",
    "random_sample.fillna(0, inplace=True)\n",
    "\n",
    "prediction = best_model.predict(random_sample)\n",
    "class_names = [col for col in y.columns]\n",
    "\n",
    "if True in prediction[0].tolist():\n",
    "    predicted_class_index = prediction[0].tolist().index(True)\n",
    "    \n",
    "    predicted_city = class_names[predicted_class_index].replace(\"target_\", \"\")\n",
    "    print(\"Предсказанный город:\", predicted_city)\n",
    "else:\n",
    "    print(\"Не найдено подходящего города\")"
   ],
   "id": "fe77b9d8babd857d",
   "outputs": [
    {
     "name": "stdout",
     "output_type": "stream",
     "text": [
      "Предсказанный город: Paris\n"
     ]
    }
   ],
   "execution_count": 71
  }
 ],
 "metadata": {
  "kernelspec": {
   "display_name": "Python 3",
   "language": "python",
   "name": "python3"
  },
  "language_info": {
   "codemirror_mode": {
    "name": "ipython",
    "version": 2
   },
   "file_extension": ".py",
   "mimetype": "text/x-python",
   "name": "python",
   "nbconvert_exporter": "python",
   "pygments_lexer": "ipython2",
   "version": "2.7.6"
  }
 },
 "nbformat": 4,
 "nbformat_minor": 5
}
