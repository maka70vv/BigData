{
 "cells": [
  {
   "cell_type": "code",
   "id": "initial_id",
   "metadata": {
    "collapsed": true,
    "ExecuteTime": {
     "end_time": "2024-09-19T11:22:48.267177Z",
     "start_time": "2024-09-19T11:22:48.264454Z"
    }
   },
   "source": [
    ""
   ],
   "outputs": [],
   "execution_count": null
  },
  {
   "metadata": {},
   "cell_type": "markdown",
   "source": [
    "# Лабораторная работа 1\n",
    "\n",
    "Код лабораторной работы доступен по [ссылке](https://github.com/maka70vv/BigData.git).\n",
    "\n",
    "## Описание\n",
    "\n",
    "В этот репозиторий запушена лабараторная работа №1 по Big Data\n",
    "\n",
    "## Вполнил\n",
    "* Макаров Павел AIN-2-22"
   ],
   "id": "3649eec5d1c3ad45"
  },
  {
   "metadata": {},
   "cell_type": "markdown",
   "source": "### Hello world ",
   "id": "559dad03c57a44d2"
  },
  {
   "metadata": {
    "ExecuteTime": {
     "end_time": "2024-09-19T11:22:48.276Z",
     "start_time": "2024-09-19T11:22:48.268184Z"
    }
   },
   "cell_type": "code",
   "source": [
    "print(\"Hello world\")\n",
    "print(\"Hello!!!\")"
   ],
   "id": "da6c0cec964b7b69",
   "outputs": [
    {
     "name": "stdout",
     "output_type": "stream",
     "text": [
      "Hello world\n",
      "Hello!!!\n"
     ]
    }
   ],
   "execution_count": 1
  },
  {
   "metadata": {},
   "cell_type": "markdown",
   "source": "## Variables\n",
   "id": "4adb6178de43658"
  },
  {
   "metadata": {
    "ExecuteTime": {
     "end_time": "2024-09-19T11:22:48.281068Z",
     "start_time": "2024-09-19T11:22:48.277006Z"
    }
   },
   "cell_type": "code",
   "source": [
    "integer = 777\n",
    "print(type(integer))\n",
    "print(\"Value is\", integer)"
   ],
   "id": "4e5511f55395c4de",
   "outputs": [
    {
     "name": "stdout",
     "output_type": "stream",
     "text": [
      "<class 'int'>\n",
      "Value is 777\n"
     ]
    }
   ],
   "execution_count": 2
  },
  {
   "metadata": {},
   "cell_type": "markdown",
   "source": "## Advance Variables",
   "id": "324dcf1014f1d59"
  },
  {
   "metadata": {
    "ExecuteTime": {
     "end_time": "2024-09-19T11:22:48.289887Z",
     "start_time": "2024-09-19T11:22:48.282073Z"
    }
   },
   "cell_type": "code",
   "source": [
    "\n",
    "my_dict = {\"name\": \"Pavel\", \"age\": 20, \"city\": \"Bishkek\"}\n",
    "my_list = [1, 2, 3, 4, 5]\n",
    "my_tuple = (\"cow\", \"dog\", \"mouse\")\n",
    "my_list.append(6)\n",
    "print(\"Обновленный список:\", my_list)\n",
    "name_value = my_dict.get(\"name\")\n",
    "print(\"Значение по ключу 'name':\", name_value)\n",
    "print(\"Кортеж:\", my_tuple)\n"
   ],
   "id": "a867d35d20148f8c",
   "outputs": [
    {
     "name": "stdout",
     "output_type": "stream",
     "text": [
      "Обновленный список: [1, 2, 3, 4, 5, 6]\n",
      "Значение по ключу 'name': Pavel\n",
      "Кортеж: ('cow', 'dog', 'mouse')\n"
     ]
    }
   ],
   "execution_count": 3
  },
  {
   "metadata": {},
   "cell_type": "markdown",
   "source": "## Math Operations",
   "id": "d96c9f0c78cbd230"
  },
  {
   "metadata": {
    "ExecuteTime": {
     "end_time": "2024-09-19T11:22:48.297464Z",
     "start_time": "2024-09-19T11:22:48.290892Z"
    }
   },
   "cell_type": "code",
   "source": [
    "import math\n",
    "powerOF = math.pow(2,5)\n",
    "print(\"Число a, возведенное в степень b = \",powerOF)\n",
    "name = \"Pavel\"\n",
    "age = 20\n",
    "city = \"Bishkek\"\n",
    "\n",
    "print(\"Name: %s, Age: %d, City: %s\" % (name, age, city))\n",
    "\n"
   ],
   "id": "448bc50059b54b",
   "outputs": [
    {
     "name": "stdout",
     "output_type": "stream",
     "text": [
      "Число a, возведенное в степень b =  32.0\n",
      "Name: Pavel, Age: 20, City: Bishkek\n"
     ]
    }
   ],
   "execution_count": 4
  },
  {
   "metadata": {},
   "cell_type": "markdown",
   "source": "## Conditions ",
   "id": "ef3a220462172de9"
  },
  {
   "metadata": {
    "ExecuteTime": {
     "end_time": "2024-09-19T11:22:48.305338Z",
     "start_time": "2024-09-19T11:22:48.298470Z"
    }
   },
   "cell_type": "code",
   "source": [
    "first_value = 5\n",
    "second_value = 3\n",
    "if first_value == second_value:\n",
    "    print(\"Equal\")\n",
    "elif first_value > second_value:\n",
    "    print(\"First variable is greater\")\n",
    "else:\n",
    "    print(\"Not equal\")\n"
   ],
   "id": "2ad06098c058156",
   "outputs": [
    {
     "name": "stdout",
     "output_type": "stream",
     "text": [
      "First variable is greater\n"
     ]
    }
   ],
   "execution_count": 5
  },
  {
   "metadata": {},
   "cell_type": "markdown",
   "source": "## Loops",
   "id": "dea1a05c8eb183a6"
  },
  {
   "metadata": {
    "ExecuteTime": {
     "end_time": "2024-09-19T11:22:48.312939Z",
     "start_time": "2024-09-19T11:22:48.306345Z"
    }
   },
   "cell_type": "code",
   "source": [
    "for i in range(10):\n",
    "    print(i, ' - is iteration number \"For Loop\"')\n",
    "else:\n",
    "    print('that`s all for \"For\" loop')\n",
    "\n",
    "the_v = 0\n",
    "while the_v < 10:\n",
    "    the_v +=2\n",
    "    print(the_v, ' \"While loop\" iteration number')\n",
    "else:\n",
    "    print('that`s all for \"While\" loop')"
   ],
   "id": "94cb73fdf4e3a563",
   "outputs": [
    {
     "name": "stdout",
     "output_type": "stream",
     "text": [
      "0  - is iteration number \"For Loop\"\n",
      "1  - is iteration number \"For Loop\"\n",
      "2  - is iteration number \"For Loop\"\n",
      "3  - is iteration number \"For Loop\"\n",
      "4  - is iteration number \"For Loop\"\n",
      "5  - is iteration number \"For Loop\"\n",
      "6  - is iteration number \"For Loop\"\n",
      "7  - is iteration number \"For Loop\"\n",
      "8  - is iteration number \"For Loop\"\n",
      "9  - is iteration number \"For Loop\"\n",
      "that`s all for \"For\" loop\n",
      "2  \"While loop\" iteration number\n",
      "4  \"While loop\" iteration number\n",
      "6  \"While loop\" iteration number\n",
      "8  \"While loop\" iteration number\n",
      "10  \"While loop\" iteration number\n",
      "that`s all for \"While\" loop\n"
     ]
    }
   ],
   "execution_count": 6
  },
  {
   "metadata": {},
   "cell_type": "markdown",
   "source": "<h4> Functions </h4>",
   "id": "ee6e4f037424741d"
  },
  {
   "metadata": {
    "ExecuteTime": {
     "end_time": "2024-09-19T11:22:48.320123Z",
     "start_time": "2024-09-19T11:22:48.313945Z"
    }
   },
   "cell_type": "code",
   "source": [
    "def minus3(x):\n",
    "    x -=3\n",
    "    return  x"
   ],
   "id": "6a2f5ac6a5b73040",
   "outputs": [],
   "execution_count": 7
  },
  {
   "metadata": {
    "ExecuteTime": {
     "end_time": "2024-09-19T11:22:48.330437Z",
     "start_time": "2024-09-19T11:22:48.321128Z"
    }
   },
   "cell_type": "code",
   "source": [
    "variable_func = 6\n",
    "minus3(3)"
   ],
   "id": "25b1700d8e564ed0",
   "outputs": [
    {
     "data": {
      "text/plain": [
       "0"
      ]
     },
     "execution_count": 8,
     "metadata": {},
     "output_type": "execute_result"
    }
   ],
   "execution_count": 8
  },
  {
   "metadata": {},
   "cell_type": "markdown",
   "source": "<h4> Lambdas </h4>",
   "id": "7b4ea80613500aa1"
  },
  {
   "metadata": {
    "ExecuteTime": {
     "end_time": "2024-09-19T11:22:48.337707Z",
     "start_time": "2024-09-19T11:22:48.331443Z"
    }
   },
   "cell_type": "code",
   "source": [
    "x = lambda a: a - 3\n",
    "print(x(3))\n",
    "\n",
    "lambda_func = lambda sth : sth + sth - 3 + 2\n",
    "print(lambda_func(2))"
   ],
   "id": "d0d68f3dc2bff0f6",
   "outputs": [
    {
     "name": "stdout",
     "output_type": "stream",
     "text": [
      "0\n",
      "3\n"
     ]
    }
   ],
   "execution_count": 9
  },
  {
   "metadata": {},
   "cell_type": "markdown",
   "source": "<h4> Image </h4>",
   "id": "95702f482b98c606"
  },
  {
   "metadata": {},
   "cell_type": "markdown",
   "source": "<img src=\"https://encrypted-tbn0.gstatic.com/images?q=tbn:ANd9GcRlfQQAPxuAPlS30k6hHuCpv82jcgf96Q1r3A&s\">",
   "id": "ffac27e1b3f9f1cf"
  },
  {
   "metadata": {},
   "cell_type": "markdown",
   "source": "<h4> Commands and formules</h4>",
   "id": "6ca138cb82662497"
  },
  {
   "metadata": {},
   "cell_type": "markdown",
   "source": [
    "\n",
    "\n",
    "$$\n",
    "P + \\frac{1}{2} \\rho v^2 + \\rho gh = \\text{const}\n",
    "$$\n"
   ],
   "id": "c15d81cbd833000"
  },
  {
   "metadata": {
    "ExecuteTime": {
     "end_time": "2024-09-19T11:22:51.588671Z",
     "start_time": "2024-09-19T11:22:48.338712Z"
    }
   },
   "cell_type": "code",
   "source": [
    "! chcp 65001\n",
    "! ping google.com"
   ],
   "id": "aedefd7cc33e8263",
   "outputs": [
    {
     "name": "stdout",
     "output_type": "stream",
     "text": [
      "Active code page: 65001\n",
      "\n",
      "Pinging google.com [142.250.74.110] with 32 bytes of data:\n",
      "Reply from 142.250.74.110: bytes=32 time=104ms TTL=53\n",
      "Reply from 142.250.74.110: bytes=32 time=100ms TTL=53\n",
      "Reply from 142.250.74.110: bytes=32 time=97ms TTL=53\n",
      "Reply from 142.250.74.110: bytes=32 time=98ms TTL=53\n",
      "\n",
      "Ping statistics for 142.250.74.110:\n",
      "    Packets: Sent = 4, Received = 4, Lost = 0 (0% loss),\n",
      "Approximate round trip times in milli-seconds:\n",
      "    Minimum = 97ms, Maximum = 104ms, Average = 99ms\n"
     ]
    }
   ],
   "execution_count": 10
  },
  {
   "metadata": {
    "ExecuteTime": {
     "end_time": "2024-09-19T11:22:51.631591Z",
     "start_time": "2024-09-19T11:22:51.590708Z"
    }
   },
   "cell_type": "code",
   "source": "! ipconfig /all",
   "id": "5b8b52dc659ea92d",
   "outputs": [
    {
     "name": "stdout",
     "output_type": "stream",
     "text": [
      "\n",
      "Windows IP Configuration\n",
      "\n",
      "   Host Name . . . . . . . . . . . . : DESKTOP-JUIHR3J\n",
      "   Primary Dns Suffix  . . . . . . . : \n",
      "   Node Type . . . . . . . . . . . . : Hybrid\n",
      "   IP Routing Enabled. . . . . . . . : No\n",
      "   WINS Proxy Enabled. . . . . . . . : No\n",
      "\n",
      "Ethernet adapter Ethernet:\n",
      "\n",
      "   Media State . . . . . . . . . . . : Media disconnected\n",
      "   Connection-specific DNS Suffix  . : \n",
      "   Description . . . . . . . . . . . : Realtek PCIe GbE Family Controller\n",
      "   Physical Address. . . . . . . . . : D8-BB-C1-F6-A5-38\n",
      "   DHCP Enabled. . . . . . . . . . . : Yes\n",
      "   Autoconfiguration Enabled . . . . : Yes\n",
      "\n",
      "Unknown adapter skk:\n",
      "\n",
      "   Connection-specific DNS Suffix  . : \n",
      "   Description . . . . . . . . . . . : WireGuard Tunnel\n",
      "   Physical Address. . . . . . . . . : \n",
      "   DHCP Enabled. . . . . . . . . . . : No\n",
      "   Autoconfiguration Enabled . . . . : Yes\n",
      "   IPv4 Address. . . . . . . . . . . : 10.1.0.9(Preferred) \n",
      "   Subnet Mask . . . . . . . . . . . : 255.255.255.255\n",
      "   Default Gateway . . . . . . . . . : \n",
      "   NetBIOS over Tcpip. . . . . . . . : Enabled\n",
      "\n",
      "Ethernet adapter vEthernet (WSL (Hyper-V firewall)):\n",
      "\n",
      "   Connection-specific DNS Suffix  . : \n",
      "   Description . . . . . . . . . . . : Hyper-V Virtual Ethernet Adapter\n",
      "   Physical Address. . . . . . . . . : 00-15-5D-64-36-30\n",
      "   DHCP Enabled. . . . . . . . . . . : No\n",
      "   Autoconfiguration Enabled . . . . : Yes\n",
      "   Link-local IPv6 Address . . . . . : fe80::dae0:7d0f:de61:b6ee%42(Preferred) \n",
      "   IPv4 Address. . . . . . . . . . . : 172.25.208.1(Preferred) \n",
      "   Subnet Mask . . . . . . . . . . . : 255.255.240.0\n",
      "   Default Gateway . . . . . . . . . : \n",
      "   DHCPv6 IAID . . . . . . . . . . . : 704648541\n",
      "   DHCPv6 Client DUID. . . . . . . . : 00-01-00-01-2D-CB-94-42-D8-BB-C1-F6-A5-38\n",
      "   NetBIOS over Tcpip. . . . . . . . : Enabled\n",
      "\n",
      "Ethernet adapter Ethernet 2:\n",
      "\n",
      "   Connection-specific DNS Suffix  . : \n",
      "   Description . . . . . . . . . . . : VirtualBox Host-Only Ethernet Adapter\n",
      "   Physical Address. . . . . . . . . : 0A-00-27-00-00-0E\n",
      "   DHCP Enabled. . . . . . . . . . . : No\n",
      "   Autoconfiguration Enabled . . . . : Yes\n",
      "   Link-local IPv6 Address . . . . . : fe80::b11c:8c2:463f:bfa3%14(Preferred) \n",
      "   IPv4 Address. . . . . . . . . . . : 192.168.56.1(Preferred) \n",
      "   Subnet Mask . . . . . . . . . . . : 255.255.255.0\n",
      "   Default Gateway . . . . . . . . . : \n",
      "   DHCPv6 IAID . . . . . . . . . . . : 705298471\n",
      "   DHCPv6 Client DUID. . . . . . . . : 00-01-00-01-2D-CB-94-42-D8-BB-C1-F6-A5-38\n",
      "   NetBIOS over Tcpip. . . . . . . . : Enabled\n",
      "\n",
      "Wireless LAN adapter Џ®¤Є«озҐ­ЁҐ Ї® «®Є «м­®© бҐвЁ* 1:\n",
      "\n",
      "   Media State . . . . . . . . . . . : Media disconnected\n",
      "   Connection-specific DNS Suffix  . : \n",
      "   Description . . . . . . . . . . . : Microsoft Wi-Fi Direct Virtual Adapter\n",
      "   Physical Address. . . . . . . . . : CC-15-31-9F-1B-19\n",
      "   DHCP Enabled. . . . . . . . . . . : Yes\n",
      "   Autoconfiguration Enabled . . . . : Yes\n",
      "\n",
      "Wireless LAN adapter Џ®¤Є«озҐ­ЁҐ Ї® «®Є «м­®© бҐвЁ* 10:\n",
      "\n",
      "   Media State . . . . . . . . . . . : Media disconnected\n",
      "   Connection-specific DNS Suffix  . : \n",
      "   Description . . . . . . . . . . . : Microsoft Wi-Fi Direct Virtual Adapter #2\n",
      "   Physical Address. . . . . . . . . : CE-15-31-9F-1B-18\n",
      "   DHCP Enabled. . . . . . . . . . . : No\n",
      "   Autoconfiguration Enabled . . . . : Yes\n",
      "\n",
      "Wireless LAN adapter ЃҐбЇа®ў®¤­ п бҐвм:\n",
      "\n",
      "   Connection-specific DNS Suffix  . : \n",
      "   Description . . . . . . . . . . . : Intel(R) Wi-Fi 6 AX201 160MHz\n",
      "   Physical Address. . . . . . . . . : CC-15-31-9F-1B-18\n",
      "   DHCP Enabled. . . . . . . . . . . : Yes\n",
      "   Autoconfiguration Enabled . . . . : Yes\n",
      "   Link-local IPv6 Address . . . . . : fe80::9dc7:96:b6e4:5868%19(Preferred) \n",
      "   IPv4 Address. . . . . . . . . . . : 192.168.0.104(Preferred) \n",
      "   Subnet Mask . . . . . . . . . . . : 255.255.255.0\n",
      "   Lease Obtained. . . . . . . . . . : 19 бҐ­впЎап 2024 Ј. 17:17:50\n",
      "   Lease Expires . . . . . . . . . . : 20 бҐ­впЎап 2024 Ј. 17:17:49\n",
      "   Default Gateway . . . . . . . . . : 192.168.0.1\n",
      "   DHCP Server . . . . . . . . . . . : 192.168.0.1\n",
      "   DHCPv6 IAID . . . . . . . . . . . : 147592497\n",
      "   DHCPv6 Client DUID. . . . . . . . : 00-01-00-01-2D-CB-94-42-D8-BB-C1-F6-A5-38\n",
      "   DNS Servers . . . . . . . . . . . : 192.168.0.1\n",
      "   NetBIOS over Tcpip. . . . . . . . : Enabled\n",
      "\n",
      "Ethernet adapter ‘ҐвҐў®Ґ Ї®¤Є«озҐ­ЁҐ Bluetooth:\n",
      "\n",
      "   Media State . . . . . . . . . . . : Media disconnected\n",
      "   Connection-specific DNS Suffix  . : \n",
      "   Description . . . . . . . . . . . : Bluetooth Device (Personal Area Network)\n",
      "   Physical Address. . . . . . . . . : CC-15-31-9F-1B-1C\n",
      "   DHCP Enabled. . . . . . . . . . . : Yes\n",
      "   Autoconfiguration Enabled . . . . : Yes\n"
     ]
    }
   ],
   "execution_count": 11
  },
  {
   "metadata": {},
   "cell_type": "markdown",
   "source": "<h2><strong>Tasks</strong></h2>",
   "id": "7b5b0015c104bbe4"
  },
  {
   "metadata": {},
   "cell_type": "markdown",
   "source": [
    "$$\n",
    "f = \\frac{9\\pi t + 10 \\cos(x)}{\\sqrt{t} - \\sin(x)} \\cdot e^{-2t}\n",
    "$$\n"
   ],
   "id": "138f5a1870d66690"
  },
  {
   "metadata": {
    "ExecuteTime": {
     "end_time": "2024-09-19T11:22:51.636390Z",
     "start_time": "2024-09-19T11:22:51.632600Z"
    }
   },
   "cell_type": "code",
   "source": [
    "import math\n",
    "\n",
    "def f(t, x):\n",
    "    up_one = 9 * math.pi * t + 10 * math.cos(x)\n",
    "    down_one = math.sqrt(t) - math.sin(x)\n",
    "    return (up_one / down_one) * pow(math.e, -2 * t)\n",
    "\n",
    "\n",
    "t = 1 \n",
    "x = 3  \n",
    "\n",
    "result = f(t, x)\n",
    "print(\"Результат f(t, x):\", result)\n"
   ],
   "id": "3eefaf5b049bf804",
   "outputs": [
    {
     "name": "stdout",
     "output_type": "stream",
     "text": [
      "Результат f(t, x): 2.895289048911311\n"
     ]
    }
   ],
   "execution_count": 12
  },
  {
   "metadata": {},
   "cell_type": "markdown",
   "source": "<h4>3 Numbers</h4>",
   "id": "1b1067b4af8a7a93"
  },
  {
   "metadata": {
    "ExecuteTime": {
     "end_time": "2024-09-19T11:22:51.644443Z",
     "start_time": "2024-09-19T11:22:51.636390Z"
    }
   },
   "cell_type": "code",
   "source": [
    "import random\n",
    "list_numbers = []\n",
    "list_of_borders = [5, 11]\n",
    "final_list = []\n",
    "for i in range(3):\n",
    "    a = random.randint(0,12)\n",
    "    list_numbers.append(a)\n",
    "\n",
    "for i in list_numbers:\n",
    "    if (i > list_of_borders[0]) and (i < list_of_borders[1]):\n",
    "        final_list.append(i)\n",
    "print(list_numbers, \"Generated Numbers\")\n",
    "print(final_list, \"Final list after filtration\")"
   ],
   "id": "5b0bd87ed1ec38cf",
   "outputs": [
    {
     "name": "stdout",
     "output_type": "stream",
     "text": [
      "[12, 8, 5] Generated Numbers\n",
      "[8] Final list after filtration\n"
     ]
    }
   ],
   "execution_count": 13
  },
  {
   "metadata": {},
   "cell_type": "markdown",
   "source": "<h4>Randomizer</h4>",
   "id": "90073ae6cae9bf3c"
  },
  {
   "metadata": {
    "ExecuteTime": {
     "end_time": "2024-09-19T11:22:51.652610Z",
     "start_time": "2024-09-19T11:22:51.645450Z"
    }
   },
   "cell_type": "code",
   "source": [
    "import random\n",
    "\n",
    "numbers = [random.randint(0, 10) for i in range(20)]\n",
    "print(*numbers, \"Numbers that were generated\")\n",
    "print(sum(numbers), \"The sum of the digits\")\n"
   ],
   "id": "b0547909a0c76ac2",
   "outputs": [
    {
     "name": "stdout",
     "output_type": "stream",
     "text": [
      "2 2 7 7 5 8 4 2 8 4 7 10 3 7 9 8 5 7 4 3 Numbers that were generated\n",
      "112 The sum of the digits\n"
     ]
    }
   ],
   "execution_count": 14
  },
  {
   "metadata": {},
   "cell_type": "markdown",
   "source": "<h3>Summ 20 elements</h3>",
   "id": "472bae69a8533e2"
  },
  {
   "metadata": {
    "ExecuteTime": {
     "end_time": "2024-09-19T11:22:51.660782Z",
     "start_time": "2024-09-19T11:22:51.653620Z"
    }
   },
   "cell_type": "code",
   "source": [
    "n_terms = 20\n",
    "sequence_sum = sum(n / (n + 2 + n + 3) for n in range(1, n_terms + 1))\n",
    "print(sequence_sum)"
   ],
   "id": "d49c3d1b9f6a834f",
   "outputs": [
    {
     "name": "stdout",
     "output_type": "stream",
     "text": [
      "7.459479607226622\n"
     ]
    }
   ],
   "execution_count": 15
  }
 ],
 "metadata": {
  "kernelspec": {
   "display_name": "Python 3",
   "language": "python",
   "name": "python3"
  },
  "language_info": {
   "codemirror_mode": {
    "name": "ipython",
    "version": 2
   },
   "file_extension": ".py",
   "mimetype": "text/x-python",
   "name": "python",
   "nbconvert_exporter": "python",
   "pygments_lexer": "ipython2",
   "version": "2.7.6"
  }
 },
 "nbformat": 4,
 "nbformat_minor": 5
}
